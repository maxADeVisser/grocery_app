{
 "cells": [
  {
   "cell_type": "code",
   "execution_count": 116,
   "metadata": {},
   "outputs": [],
   "source": [
    "from selenium import webdriver\n",
    "import pandas as pd\n",
    "import time"
   ]
  },
  {
   "cell_type": "code",
   "execution_count": 124,
   "metadata": {},
   "outputs": [],
   "source": [
    "driver = webdriver.Chrome(\"/Users/maxvisser/Documents/Code/selenium_installation/chromedriver\")\n",
    "#driver.implicitly_wait(2) # TODO make it work"
   ]
  },
  {
   "cell_type": "markdown",
   "metadata": {},
   "source": [
    "# Scraping Rema 1000"
   ]
  },
  {
   "cell_type": "code",
   "execution_count": 118,
   "metadata": {},
   "outputs": [],
   "source": [
    "url = 'https://rema1000.dk/avis'\n",
    "\n",
    "driver.get(url) # go to website\n",
    "\n",
    "try:\n",
    "    driver.find_element_by_xpath('//*[@id=\"declineButton\"]').click()\n",
    "except:\n",
    "    print(\"did not ask for cookies preferences\")\n",
    "\n",
    "driver.get('https://rema1000.dk/avis')\n",
    "\n",
    "driver.find_element_by_xpath('//*[@id=\"list-publications\"]/div[1]/ul/li[1]').click() # click on newest tilbudsavis\n",
    "time.sleep(1)\n",
    "driver.find_element_by_xpath('//*[@id=\"sgn-publication-viewer-container\"]/div/div[1]/div/div/div/div[1]/button[3]').click() # click \"oversigt\"\n",
    "time.sleep(1)\n",
    "driver.find_element_by_xpath('//*[@id=\"sgn-publication-viewer-container\"]/div/div[3]/div[2]/div/div[4]/button[2]').click() # click \"tilbud\"\n",
    "    \n",
    "response = driver.find_element_by_xpath('//*[@id=\"sgn-publication-viewer-container\"]/div/div[3]/div[2]/div/div[5]/div[2]/div/div/div/ol')\n",
    "\n",
    "offers = response.find_elements_by_class_name(name=\"sgn-offers-list-item-container\")"
   ]
  },
  {
   "cell_type": "code",
   "execution_count": 119,
   "metadata": {},
   "outputs": [],
   "source": [
    "l = {'name':[], 'description':[], 'price (kr)':[]}\n",
    "\n",
    "for item in offers:\n",
    "    \n",
    "    #item.find_element_by_class_name(\"sgn-offers-content-text\")\n",
    "    item_name = item.find_element_by_class_name(\"sgn-offers-content-heading\").text\n",
    "    l['name'].append(item_name)\n",
    "    \n",
    "    item_description = item.find_element_by_class_name(\"sgn-offers-content-description\").text\n",
    "    l['description'].append(item_description)\n",
    "    \n",
    "    item_price = item.find_element_by_class_name(\"sgn-offers-content-price\").text\n",
    "    l['price (kr)'].append(float(item_price.replace(\" kr.\", \"\").replace(\",\",\".\")))\n",
    "\n",
    "    \n",
    "df = pd.DataFrame(l)\n",
    "df['retailer'] = \"Rema 1000\""
   ]
  },
  {
   "cell_type": "markdown",
   "metadata": {},
   "source": [
    "# Scraping Lidl"
   ]
  },
  {
   "cell_type": "code",
   "execution_count": 130,
   "metadata": {},
   "outputs": [
    {
     "name": "stdout",
     "output_type": "stream",
     "text": [
      "Did not ask for cookies\n"
     ]
    },
    {
     "ename": "InvalidSelectorException",
     "evalue": "Message: invalid selector: An invalid or illegal selector was specified\n  (Session info: chrome=105.0.5195.125)\n",
     "output_type": "error",
     "traceback": [
      "\u001b[0;31m---------------------------------------------------------------------------\u001b[0m",
      "\u001b[0;31mInvalidSelectorException\u001b[0m                  Traceback (most recent call last)",
      "\u001b[1;32m/Users/maxvisser/Documents/Code/grocery_app/scraping.ipynb Cell 7\u001b[0m in \u001b[0;36m<cell line: 17>\u001b[0;34m()\u001b[0m\n\u001b[1;32m     <a href='vscode-notebook-cell:/Users/maxvisser/Documents/Code/grocery_app/scraping.ipynb#W6sZmlsZQ%3D%3D?line=11'>12</a>\u001b[0m time\u001b[39m.\u001b[39msleep(\u001b[39m1\u001b[39m)\n\u001b[1;32m     <a href='vscode-notebook-cell:/Users/maxvisser/Documents/Code/grocery_app/scraping.ipynb#W6sZmlsZQ%3D%3D?line=13'>14</a>\u001b[0m \u001b[39m# element with all offers\u001b[39;00m\n\u001b[1;32m     <a href='vscode-notebook-cell:/Users/maxvisser/Documents/Code/grocery_app/scraping.ipynb#W6sZmlsZQ%3D%3D?line=14'>15</a>\u001b[0m \u001b[39m#offers = driver.find_element_by_xpath('//*[@id=\"pageMain\"]/div/div[2]/div/div/div/div')\u001b[39;00m\n\u001b[0;32m---> <a href='vscode-notebook-cell:/Users/maxvisser/Documents/Code/grocery_app/scraping.ipynb#W6sZmlsZQ%3D%3D?line=16'>17</a>\u001b[0m offers \u001b[39m=\u001b[39m driver\u001b[39m.\u001b[39;49mfind_elements_by_class_name(\u001b[39m'\u001b[39;49m\u001b[39mnuc-a-flex-item nuc-a-flex-item--width-6 nuc-a-flex-item--width-4@sm\u001b[39;49m\u001b[39m'\u001b[39;49m)\n",
      "File \u001b[0;32m/opt/miniconda3/envs/scraping/lib/python3.10/site-packages/selenium/webdriver/remote/webdriver.py:580\u001b[0m, in \u001b[0;36mWebDriver.find_elements_by_class_name\u001b[0;34m(self, name)\u001b[0m\n\u001b[1;32m    566\u001b[0m \u001b[39mdef\u001b[39;00m \u001b[39mfind_elements_by_class_name\u001b[39m(\u001b[39mself\u001b[39m, name):\n\u001b[1;32m    567\u001b[0m     \u001b[39m\"\"\"\u001b[39;00m\n\u001b[1;32m    568\u001b[0m \u001b[39m    Finds elements by class name.\u001b[39;00m\n\u001b[1;32m    569\u001b[0m \n\u001b[0;32m   (...)\u001b[0m\n\u001b[1;32m    578\u001b[0m \u001b[39m        elements = driver.find_elements_by_class_name('foo')\u001b[39;00m\n\u001b[1;32m    579\u001b[0m \u001b[39m    \"\"\"\u001b[39;00m\n\u001b[0;32m--> 580\u001b[0m     \u001b[39mreturn\u001b[39;00m \u001b[39mself\u001b[39;49m\u001b[39m.\u001b[39;49mfind_elements(by\u001b[39m=\u001b[39;49mBy\u001b[39m.\u001b[39;49mCLASS_NAME, value\u001b[39m=\u001b[39;49mname)\n",
      "File \u001b[0;32m/opt/miniconda3/envs/scraping/lib/python3.10/site-packages/selenium/webdriver/remote/webdriver.py:1005\u001b[0m, in \u001b[0;36mWebDriver.find_elements\u001b[0;34m(self, by, value)\u001b[0m\n\u001b[1;32m   1001\u001b[0m         value \u001b[39m=\u001b[39m \u001b[39m'\u001b[39m\u001b[39m[name=\u001b[39m\u001b[39m\"\u001b[39m\u001b[39m%s\u001b[39;00m\u001b[39m\"\u001b[39m\u001b[39m]\u001b[39m\u001b[39m'\u001b[39m \u001b[39m%\u001b[39m value\n\u001b[1;32m   1003\u001b[0m \u001b[39m# Return empty list if driver returns null\u001b[39;00m\n\u001b[1;32m   1004\u001b[0m \u001b[39m# See https://github.com/SeleniumHQ/selenium/issues/4555\u001b[39;00m\n\u001b[0;32m-> 1005\u001b[0m \u001b[39mreturn\u001b[39;00m \u001b[39mself\u001b[39;49m\u001b[39m.\u001b[39;49mexecute(Command\u001b[39m.\u001b[39;49mFIND_ELEMENTS, {\n\u001b[1;32m   1006\u001b[0m     \u001b[39m'\u001b[39;49m\u001b[39musing\u001b[39;49m\u001b[39m'\u001b[39;49m: by,\n\u001b[1;32m   1007\u001b[0m     \u001b[39m'\u001b[39;49m\u001b[39mvalue\u001b[39;49m\u001b[39m'\u001b[39;49m: value})[\u001b[39m'\u001b[39m\u001b[39mvalue\u001b[39m\u001b[39m'\u001b[39m] \u001b[39mor\u001b[39;00m []\n",
      "File \u001b[0;32m/opt/miniconda3/envs/scraping/lib/python3.10/site-packages/selenium/webdriver/remote/webdriver.py:321\u001b[0m, in \u001b[0;36mWebDriver.execute\u001b[0;34m(self, driver_command, params)\u001b[0m\n\u001b[1;32m    319\u001b[0m response \u001b[39m=\u001b[39m \u001b[39mself\u001b[39m\u001b[39m.\u001b[39mcommand_executor\u001b[39m.\u001b[39mexecute(driver_command, params)\n\u001b[1;32m    320\u001b[0m \u001b[39mif\u001b[39;00m response:\n\u001b[0;32m--> 321\u001b[0m     \u001b[39mself\u001b[39;49m\u001b[39m.\u001b[39;49merror_handler\u001b[39m.\u001b[39;49mcheck_response(response)\n\u001b[1;32m    322\u001b[0m     response[\u001b[39m'\u001b[39m\u001b[39mvalue\u001b[39m\u001b[39m'\u001b[39m] \u001b[39m=\u001b[39m \u001b[39mself\u001b[39m\u001b[39m.\u001b[39m_unwrap_value(\n\u001b[1;32m    323\u001b[0m         response\u001b[39m.\u001b[39mget(\u001b[39m'\u001b[39m\u001b[39mvalue\u001b[39m\u001b[39m'\u001b[39m, \u001b[39mNone\u001b[39;00m))\n\u001b[1;32m    324\u001b[0m     \u001b[39mreturn\u001b[39;00m response\n",
      "File \u001b[0;32m/opt/miniconda3/envs/scraping/lib/python3.10/site-packages/selenium/webdriver/remote/errorhandler.py:242\u001b[0m, in \u001b[0;36mErrorHandler.check_response\u001b[0;34m(self, response)\u001b[0m\n\u001b[1;32m    240\u001b[0m         alert_text \u001b[39m=\u001b[39m value[\u001b[39m'\u001b[39m\u001b[39malert\u001b[39m\u001b[39m'\u001b[39m]\u001b[39m.\u001b[39mget(\u001b[39m'\u001b[39m\u001b[39mtext\u001b[39m\u001b[39m'\u001b[39m)\n\u001b[1;32m    241\u001b[0m     \u001b[39mraise\u001b[39;00m exception_class(message, screen, stacktrace, alert_text)\n\u001b[0;32m--> 242\u001b[0m \u001b[39mraise\u001b[39;00m exception_class(message, screen, stacktrace)\n",
      "\u001b[0;31mInvalidSelectorException\u001b[0m: Message: invalid selector: An invalid or illegal selector was specified\n  (Session info: chrome=105.0.5195.125)\n"
     ]
    }
   ],
   "source": [
    "\n",
    "url = \"https://www.lidl.dk/ugens-tilbud\"\n",
    "driver.get(url)\n",
    "\n",
    "time.sleep(1)\n",
    "\n",
    "# deny cookies:\n",
    "try:\n",
    "    driver.find_element_by_xpath('//*[@id=\"CybotCookiebotDialog\"]/div/div[1]/button[3]').click()\n",
    "except:\n",
    "    print(\"Did not ask for cookies\")\n",
    "    \n",
    "time.sleep(1)\n",
    "\n",
    "# element with all offers\n",
    "#offers = driver.find_element_by_xpath('//*[@id=\"pageMain\"]/div/div[2]/div/div/div/div')\n",
    "\n",
    "offers = driver.find_elements_by_class_name('nuc-a-flex-item nuc-a-flex-item--width-6 nuc-a-flex-item--width-4@sm')\n",
    "\n",
    "#name = [item.text for item in offers.find_elements_by_class_name('ret-o-card__headline')]\n",
    "#info = [item.text for item in offers.find_elements_by_class_name('ret-o-card__content')]\n",
    "#prices = [float(item.text.replace(\".-\", \"\")) for item in offers.find_elements_by_class_name('lidl-m-pricebox__price')]\n",
    "\n",
    "# time.sleep(3)\n",
    "# driver.quit()"
   ]
  },
  {
   "cell_type": "code",
   "execution_count": 128,
   "metadata": {},
   "outputs": [
    {
     "ename": "TypeError",
     "evalue": "'WebElement' object is not iterable",
     "output_type": "error",
     "traceback": [
      "\u001b[0;31m---------------------------------------------------------------------------\u001b[0m",
      "\u001b[0;31mTypeError\u001b[0m                                 Traceback (most recent call last)",
      "\u001b[1;32m/Users/maxvisser/Documents/Code/grocery_app/scraping.ipynb Cell 8\u001b[0m in \u001b[0;36m<cell line: 1>\u001b[0;34m()\u001b[0m\n\u001b[0;32m----> <a href='vscode-notebook-cell:/Users/maxvisser/Documents/Code/grocery_app/scraping.ipynb#X34sZmlsZQ%3D%3D?line=0'>1</a>\u001b[0m \u001b[39mfor\u001b[39;00m item \u001b[39min\u001b[39;00m offers:\n\u001b[1;32m      <a href='vscode-notebook-cell:/Users/maxvisser/Documents/Code/grocery_app/scraping.ipynb#X34sZmlsZQ%3D%3D?line=1'>2</a>\u001b[0m     item\u001b[39m.\u001b[39mfind_elements_by_class_name(\u001b[39m'\u001b[39m\u001b[39mret-o-card__headline\u001b[39m\u001b[39m'\u001b[39m)\n",
      "\u001b[0;31mTypeError\u001b[0m: 'WebElement' object is not iterable"
     ]
    }
   ],
   "source": [
    "for item in offers:\n",
    "    item.find_elements_by_class_name('ret-o-card__headline')"
   ]
  },
  {
   "cell_type": "code",
   "execution_count": null,
   "metadata": {},
   "outputs": [],
   "source": [
    "l = {'name':[], 'description':[], 'price (kr)':[]}"
   ]
  },
  {
   "cell_type": "code",
   "execution_count": 121,
   "metadata": {},
   "outputs": [],
   "source": [
    "driver.quit()"
   ]
  }
 ],
 "metadata": {
  "kernelspec": {
   "display_name": "Python 3.10.4 ('scraping')",
   "language": "python",
   "name": "python3"
  },
  "language_info": {
   "codemirror_mode": {
    "name": "ipython",
    "version": 3
   },
   "file_extension": ".py",
   "mimetype": "text/x-python",
   "name": "python",
   "nbconvert_exporter": "python",
   "pygments_lexer": "ipython3",
   "version": "3.10.4"
  },
  "orig_nbformat": 4,
  "vscode": {
   "interpreter": {
    "hash": "2257b33f2d763f24835762c290a67dec323d0839104ee7e63c973bf884fed249"
   }
  }
 },
 "nbformat": 4,
 "nbformat_minor": 2
}
